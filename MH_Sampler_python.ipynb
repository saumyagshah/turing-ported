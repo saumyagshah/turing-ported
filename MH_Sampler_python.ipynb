{
 "cells": [
  {
   "cell_type": "code",
   "execution_count": 3,
   "metadata": {},
   "outputs": [],
   "source": [
    "import numpy as np\n",
    "import matplotlib.pyplot as plt\n",
    "from scipy.stats import norm\n",
    "from scipy.stats import multivariate_normal as N  "
   ]
  },
  {
   "cell_type": "code",
   "execution_count": 4,
   "metadata": {},
   "outputs": [
    {
     "ename": "IOError",
     "evalue": "[Errno 2] No such file or directory: 'plots_and_values/MH_Sampler_rejection_rate.txt'",
     "output_type": "error",
     "traceback": [
      "\u001b[0;31m---------------------------------------------------------------------------\u001b[0m",
      "\u001b[0;31mIOError\u001b[0m                                   Traceback (most recent call last)",
      "\u001b[0;32m<ipython-input-4-9e882129eb5d>\u001b[0m in \u001b[0;36m<module>\u001b[0;34m()\u001b[0m\n\u001b[1;32m      1\u001b[0m \u001b[0msamples\u001b[0m \u001b[0;34m=\u001b[0m \u001b[0;36m10000\u001b[0m\u001b[0;34m\u001b[0m\u001b[0m\n\u001b[1;32m      2\u001b[0m \u001b[0msigma2_arr\u001b[0m \u001b[0;34m=\u001b[0m \u001b[0;34m[\u001b[0m\u001b[0;36m0.01\u001b[0m\u001b[0;34m,\u001b[0m \u001b[0;36m1\u001b[0m\u001b[0;34m,\u001b[0m \u001b[0;36m100\u001b[0m\u001b[0;34m]\u001b[0m\u001b[0;34m\u001b[0m\u001b[0m\n\u001b[0;32m----> 3\u001b[0;31m \u001b[0;32mwith\u001b[0m \u001b[0mopen\u001b[0m\u001b[0;34m(\u001b[0m\u001b[0;34m\"plots_and_values/MH_Sampler_rejection_rate.txt\"\u001b[0m\u001b[0;34m,\u001b[0m \u001b[0;34m'w+'\u001b[0m\u001b[0;34m)\u001b[0m \u001b[0;32mas\u001b[0m \u001b[0mf\u001b[0m\u001b[0;34m:\u001b[0m\u001b[0;34m\u001b[0m\u001b[0m\n\u001b[0m\u001b[1;32m      4\u001b[0m     \u001b[0;31m#Looping over all values of sigma^2\u001b[0m\u001b[0;34m\u001b[0m\u001b[0;34m\u001b[0m\u001b[0m\n\u001b[1;32m      5\u001b[0m     \u001b[0;32mfor\u001b[0m \u001b[0msigma2\u001b[0m \u001b[0;32min\u001b[0m \u001b[0msigma2_arr\u001b[0m\u001b[0;34m:\u001b[0m\u001b[0;34m\u001b[0m\u001b[0m\n",
      "\u001b[0;31mIOError\u001b[0m: [Errno 2] No such file or directory: 'plots_and_values/MH_Sampler_rejection_rate.txt'"
     ]
    }
   ],
   "source": [
    "samples = 10000\n",
    "sigma2_arr = [0.01, 1, 100]\n",
    "with open(\"plots_and_values/MH_Sampler_rejection_rate.txt\", 'w+') as f:\n",
    "    #Looping over all values of sigma^2\n",
    "    for sigma2 in sigma2_arr:\n",
    "        i = 0\n",
    "        plt.figure(figsize = (10, 10))\n",
    "        \n",
    "        #Random initialisation\n",
    "        z_new = np.random.uniform(size = 2)\n",
    "        \n",
    "        sample_values = []\n",
    "        accepted = 0\n",
    "        total = 0\n",
    "        #Looping over 10000 samples\n",
    "#         for i in range(samples):\n",
    "        while(i < samples):\n",
    "            total = total + 1\n",
    "            z_old = z_new\n",
    "            z_star = np.random.multivariate_normal(z_old, cov = sigma2 * np.identity(2))\n",
    "            u = np.random.uniform(0, 1, 1)\n",
    "\n",
    "            #Computing A\n",
    "            p_tilde_num = N.pdf(z_star, mean = np.array([4, 4]), cov = np.array([[1, 0.8], [0.8, 1]]))\n",
    "            p_tilde_den = N.pdf(z_old, mean = np.array([4, 4]), cov = np.array([[1, 0.8], [0.8, 1]]))\n",
    "            q_num = N.pdf(z_old, mean = z_star, cov = sigma2 * np.identity(2))\n",
    "            q_den = N.pdf(z_star, mean = z_old, cov = sigma2 * np.identity(2))\n",
    "            A = (p_tilde_num*q_num)/(p_tilde_den*q_den)\n",
    "            A = min(1, A)\n",
    "\n",
    "            #Deciding accept/reject\n",
    "            if(u < A):\n",
    "                accepted += 1\n",
    "                z_new = z_star\n",
    "                sample_values.append(z_new)\n",
    "                i = i + 1\n",
    "            else:\n",
    "                z_new = z_old\n",
    "\n",
    "            #Plots for 100, 10000 and 100000 samples\n",
    "            if(i == 99):\n",
    "                plt.subplot(3,1,1)\n",
    "                sample_values_arr = np.array(sample_values)\n",
    "                \n",
    "                #Code for plotting contour\n",
    "                x, y = np.mgrid[-2:8:0.01, -2:8:0.01]\n",
    "                pos = np.empty(x.shape + (2,))\n",
    "                pos[:,:,0] = x\n",
    "                pos[:,:,1] = y\n",
    "                p_orig = N(np.array([4, 4]), np.array([[1, 0.8], [0.8, 1]]) )\n",
    "                cont_mean = np.mean(sample_values_arr, axis  =0)\n",
    "                cont_cov = np.cov(sample_values_arr, rowvar = False)\n",
    "                p_generated = N(cont_mean, cont_cov)\n",
    "                plt.contour(x, y, p_orig.pdf(pos), [0.008], colors = 'red', zorder = 2)\n",
    "                plt.contour(x, y, p_generated.pdf(pos), [0.008], colors = 'green', zorder = 2)\n",
    "                \n",
    "                plt.title(\"Approximation with 100 Samples\")\n",
    "                plt.plot(sample_values_arr[:,0], sample_values_arr[:,1], '.', color = 'blue')\n",
    "            if(i == 999):\n",
    "                plt.subplot(3,1,2)\n",
    "                sample_values_arr = np.array(sample_values)\n",
    "                \n",
    "                #Code for plotting contour\n",
    "                x, y = np.mgrid[-2:8:0.01, -2:8:0.01]\n",
    "                pos = np.empty(x.shape + (2,))\n",
    "                pos[:,:,0] = x\n",
    "                pos[:,:,1] = y\n",
    "                p_orig = N(np.array([4, 4]), np.array([[1, 0.8], [0.8, 1]]) )\n",
    "                cont_mean = np.mean(sample_values_arr, axis  =0)\n",
    "                cont_cov = np.cov(sample_values_arr, rowvar = False)\n",
    "                p_generated = N(cont_mean, cont_cov)\n",
    "                plt.contour(x, y, p_orig.pdf(pos), [0.008], colors = 'red', zorder = 2)\n",
    "                plt.contour(x, y, p_generated.pdf(pos), [0.008], colors = 'green', zorder = 2)\n",
    "                \n",
    "                plt.title(\"Approximation with 1000 Samples\")\n",
    "                plt.plot(sample_values_arr[:,0], sample_values_arr[:,1], '.', color = 'blue')\n",
    "            if(i == 9999):\n",
    "                plt.subplot(3,1,3)\n",
    "                sample_values_arr = np.array(sample_values)\n",
    "                \n",
    "                #Code for plotting contour\n",
    "                x, y = np.mgrid[-2:8:0.01, -2:8:0.01]\n",
    "                pos = np.empty(x.shape + (2,))\n",
    "                pos[:,:,0] = x\n",
    "                pos[:,:,1] = y\n",
    "                p_orig = N(np.array([4, 4]), np.array([[1, 0.8], [0.8, 1]]) )\n",
    "                cont_mean = np.mean(sample_values_arr, axis  =0)\n",
    "                cont_cov = np.cov(sample_values_arr, rowvar = False)\n",
    "                p_generated = N(cont_mean, cont_cov)\n",
    "                plt.contour(x, y, p_orig.pdf(pos), [0.008], colors = 'red', zorder = 12)\n",
    "                plt.contour(x, y, p_generated.pdf(pos), [0.008], colors = 'green', zorder = 12)\n",
    "                \n",
    "                plt.title(\"Approximation with 10000 Samples\")\n",
    "                plt.plot(sample_values_arr[:,0], sample_values_arr[:,1], '.', color = 'blue')\n",
    "                \n",
    "        #Saving plots and value of rejection rate for current sigma^2\n",
    "        plt.savefig(\"plots_and_values/MH_Sampler_sigma2=\" + str(sigma2) + \".jpg\")\n",
    "        plt.clf()\n",
    "        rejection_rate = ((total - accepted)/float(total))*100\n",
    "        f.write(str(rejection_rate) + '\\n')"
   ]
  },
  {
   "cell_type": "code",
   "execution_count": 6,
   "metadata": {},
   "outputs": [
    {
     "name": "stdout",
     "output_type": "stream",
     "text": [
      "\u001b[0m\u001b[01;32m160633.zip\u001b[0m*                         \u001b[01;32moverleaf_upload.zip\u001b[0m*\r\n",
      "\u001b[01;32mCS698X_ASS3_1_HUNAR.pdf\u001b[0m*            \u001b[34;42mplot_and_values\u001b[0m/\r\n",
      "\u001b[01;32mCS698X_HW3 (1).pdf\u001b[0m*                 \u001b[34;42mplots_and_values_copy\u001b[0m/\r\n",
      "\u001b[01;32mcs698x_hw3_dsabhishek98.pdf\u001b[0m*        \u001b[34;42mplots_and_values_copy2\u001b[0m/\r\n",
      "\u001b[01;32mCS698X_HW3.pdf\u001b[0m*                     \u001b[34;42mplots_and_values_copy3\u001b[0m/\r\n",
      "\u001b[01;32mhw3_Harshit.pdf\u001b[0m*                    \u001b[34;42mplots_and_values_copy4\u001b[0m/\r\n",
      "\u001b[01;32mhw3_part1_Rejection_Sampler.ipynb\u001b[0m*  \u001b[34;42mplots_and_values_corrected\u001b[0m/\r\n",
      "\u001b[01;32mhw3_part2_MH_Sampler.ipynb\u001b[0m*         \u001b[34;42mplots_and_values_old\u001b[0m/\r\n",
      "\u001b[01;32mhw3sol.tex\u001b[0m*                         \u001b[01;32mplotting_original_values\u001b[0m*\r\n",
      "\u001b[01;32mhw3try3_SURYA.pdf\u001b[0m*                  \u001b[01;32mpmi_hw3_2019.pdf\u001b[0m*\r\n",
      "\u001b[01;32mhw3try5_SURYA.pdf\u001b[0m*                  \u001b[01;32mpmi.sty\u001b[0m*\r\n",
      "\u001b[01;32mMH_Sampler_rejection_rate.txt\u001b[0m*      \u001b[01;32mpmisubmit.sty\u001b[0m*\r\n",
      "\u001b[01;32mMH_Sampler_sigma2=0.01.jpg\u001b[0m*         \u001b[01;32mRejection_Sampler.png\u001b[0m*\r\n",
      "\u001b[01;32mMH_Sampler_sigma2=100.jpg\u001b[0m*          \u001b[01;32mtpmi_hw3_q5_DS_ABHISHEK.ipynb\u001b[0m*\r\n",
      "\u001b[01;32mMH_Sampler_sigma2=1.jpg\u001b[0m*\r\n"
     ]
    }
   ],
   "source": [
    "ls"
   ]
  }
 ],
 "metadata": {
  "kernelspec": {
   "display_name": "Python 2",
   "language": "python",
   "name": "python2"
  },
  "language_info": {
   "codemirror_mode": {
    "name": "ipython",
    "version": 2
   },
   "file_extension": ".py",
   "mimetype": "text/x-python",
   "name": "python",
   "nbconvert_exporter": "python",
   "pygments_lexer": "ipython2",
   "version": "2.7.15"
  }
 },
 "nbformat": 4,
 "nbformat_minor": 2
}
